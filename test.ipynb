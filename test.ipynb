{
 "cells": [
  {
   "cell_type": "code",
   "execution_count": 2,
   "metadata": {},
   "outputs": [
    {
     "name": "stdout",
     "output_type": "stream",
     "text": [
      "Opening: https://platform.classiq.io/circuit/3ea6a617-c792-4c56-b92e-c29f2aa6ccd5?version=0.33.0\n"
     ]
    }
   ],
   "source": [
    "from classiq import Model, synthesize, show\n",
    "from classiq.builtin_functions import RZZGate\n",
    "\n",
    "\n",
    "model = Model()\n",
    "rzz_params = RZZGate(theta=0.5)\n",
    "model.RZZGate(rzz_params)\n",
    "quantum_program = synthesize(model.get_model())\n",
    "show(quantum_program)"
   ]
  }
 ],
 "metadata": {
  "kernelspec": {
   "display_name": "Python 3",
   "language": "python",
   "name": "python3"
  },
  "language_info": {
   "codemirror_mode": {
    "name": "ipython",
    "version": 3
   },
   "file_extension": ".py",
   "mimetype": "text/x-python",
   "name": "python",
   "nbconvert_exporter": "python",
   "pygments_lexer": "ipython3",
   "version": "3.11.7"
  }
 },
 "nbformat": 4,
 "nbformat_minor": 2
}
