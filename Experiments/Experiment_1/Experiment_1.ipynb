{
 "cells": [
  {
   "cell_type": "markdown",
   "metadata": {},
   "source": [
    "### Imports and Setup"
   ]
  },
  {
   "cell_type": "code",
   "execution_count": null,
   "metadata": {},
   "outputs": [],
   "source": [
    "import torch\n",
    "import classiq\n",
    "\n",
    "import torch.nn as nn\n",
    "import torch.optim as optim\n",
    "from torchinfo import summary\n",
    "\n",
    "import sys\n",
    "sys.path.append(\"../..\") # Add the parent directory to the sys.path list\n",
    "\n",
    "from models.leqm3 import linear_entanglement_r3_quantum_model\n",
    "from models.qnn import execute_fn, post_process_fn, QNN\n",
    "\n",
    "from scripts.helper import create_writer, write_train_results\n",
    "from scripts.data_setup import create_mnist_dataloaders\n",
    "from scripts.data_transforms import input_transform, target_transform\n",
    "from scripts.train import train\n",
    "from scripts.test import test\n",
    "from scripts.save_model import save_model"
   ]
  },
  {
   "cell_type": "code",
   "execution_count": null,
   "metadata": {},
   "outputs": [],
   "source": [
    "## Authenticate Classiq\n",
    "# classiq.authenticate()"
   ]
  },
  {
   "cell_type": "code",
   "execution_count": null,
   "metadata": {},
   "outputs": [],
   "source": [
    "## For setting up device agnostic code\n",
    "# device = \"cuda\" if torch.cuda.is_available() else \"cpu\"\n",
    "device = 'cpu'\n",
    "device"
   ]
  },
  {
   "cell_type": "code",
   "execution_count": null,
   "metadata": {},
   "outputs": [],
   "source": [
    "# ## Clear Output Files\n",
    "# post_process_output_file = open(\"post_process_output.txt\", \"w\")\n",
    "# print(\"-----------------------------------------------------------------------------------------------------------------\", file=post_process_output_file)\n",
    "# print(\"--------------------------------------------POST PROCESS OUTPUT--------------------------------------------------\", file=post_process_output_file)\n",
    "# print(\"-----------------------------------------------------------------------------------------------------------------\", file=post_process_output_file)\n",
    "# post_process_output_file.close()\n",
    "\n",
    "# test_loop_output_file = open(\"test_loop_output.txt\", \"w\")\n",
    "# print(\"-----------------------------------------------------------------------------------------------------------------\", file=test_loop_output_file)\n",
    "# print(\"-----------------------------------------------TEST LOOP OUTPUT--------------------------------------------------\", file=test_loop_output_file)\n",
    "# print(\"-----------------------------------------------------------------------------------------------------------------\", file=test_loop_output_file)\n",
    "# test_loop_output_file.close()"
   ]
  },
  {
   "cell_type": "code",
   "execution_count": null,
   "metadata": {},
   "outputs": [],
   "source": [
    "## HYPER PARAMETERS\n",
    "_LEARNING_RATE = 1.0\n",
    "BATCH_SIZE = 32\n",
    "EPOCHS = 2"
   ]
  },
  {
   "cell_type": "markdown",
   "metadata": {},
   "source": [
    "### Quantum Model"
   ]
  },
  {
   "cell_type": "code",
   "execution_count": null,
   "metadata": {},
   "outputs": [],
   "source": [
    "## Create a Linear Entanglement Quantum Model for MNIST Data Classification with three linear entanglement layers of RXX, RYY, and RZZ.\n",
    "quantum_model = linear_entanglement_r3_quantum_model()"
   ]
  },
  {
   "cell_type": "code",
   "execution_count": null,
   "metadata": {},
   "outputs": [],
   "source": [
    "quantum_program = classiq.synthesize(quantum_model)"
   ]
  },
  {
   "cell_type": "code",
   "execution_count": null,
   "metadata": {},
   "outputs": [],
   "source": [
    "# View Quantum Program on Classiq Platform\n",
    "# classiq.show(quantum_program)"
   ]
  },
  {
   "cell_type": "markdown",
   "metadata": {},
   "source": [
    "### Quantum Neural Network"
   ]
  },
  {
   "cell_type": "code",
   "execution_count": null,
   "metadata": {},
   "outputs": [],
   "source": [
    "qnn = QNN(\n",
    "    quantum_program=quantum_program,\n",
    "    execute=execute_fn,\n",
    "    post_process=post_process_fn,\n",
    ")"
   ]
  },
  {
   "cell_type": "code",
   "execution_count": null,
   "metadata": {},
   "outputs": [],
   "source": [
    "# summary(model=qnn, input_size=(32, 16), verbose=0, col_names=[\"input_size\", \"output_size\", \"num_params\", \"trainable\"], col_width=20, row_settings=[\"var_names\"])"
   ]
  },
  {
   "cell_type": "code",
   "execution_count": null,
   "metadata": {},
   "outputs": [],
   "source": [
    "# choosing our loss function\n",
    "loss_fn = nn.L1Loss()\n",
    "# choosing our optimizer\n",
    "optimizer = optim.SGD(qnn.parameters(), lr=_LEARNING_RATE)"
   ]
  },
  {
   "cell_type": "markdown",
   "metadata": {},
   "source": [
    "### Preparing Data"
   ]
  },
  {
   "cell_type": "code",
   "execution_count": null,
   "metadata": {},
   "outputs": [],
   "source": [
    "train_dataloader, test_dataloader, class_names = create_mnist_dataloaders(\n",
    "    root=\"../../data\",\n",
    "    transform=input_transform,\n",
    "    target_transform=target_transform,\n",
    "    batch_size=BATCH_SIZE,\n",
    "    create_subset=True,\n",
    "    subset_size=256\n",
    ")"
   ]
  },
  {
   "cell_type": "code",
   "execution_count": null,
   "metadata": {},
   "outputs": [],
   "source": [
    "# Let's check out what we've created\n",
    "print(f\"Dataloaders: {train_dataloader, test_dataloader}\") \n",
    "print(f\"Length of train dataloader: {len(train_dataloader)} batches of {BATCH_SIZE}\")\n",
    "print(f\"Length of test dataloader: {len(test_dataloader)} batches of {BATCH_SIZE}\")\n",
    "print(f\"Our Dataset have following classes: {class_names}\")"
   ]
  },
  {
   "cell_type": "code",
   "execution_count": null,
   "metadata": {},
   "outputs": [],
   "source": [
    "data, label = next(iter(train_dataloader))\n",
    "\n",
    "print(f\"Image shape: {data.shape} -> [batch_size, pixel_angle]\")\n",
    "print(f\"Label shape: {label.shape} -> [batch_size, label_value]\")"
   ]
  },
  {
   "cell_type": "markdown",
   "metadata": {},
   "source": [
    "#### Run Experiment"
   ]
  },
  {
   "cell_type": "markdown",
   "metadata": {},
   "source": [
    "##### 01. Train"
   ]
  },
  {
   "cell_type": "code",
   "execution_count": null,
   "metadata": {},
   "outputs": [],
   "source": [
    "# Create a writer for tracking our experiment\n",
    "writer = create_writer(experiment_name=\"data_256\", model_name=\"linear_entanglement_r3\", extra=f\"{EPOCHS}_epochs\")"
   ]
  },
  {
   "cell_type": "code",
   "execution_count": null,
   "metadata": {},
   "outputs": [],
   "source": [
    "train_results = train(\n",
    "    model = qnn, \n",
    "    data_loader = train_dataloader, \n",
    "    loss_fn = loss_fn, \n",
    "    optimizer = optimizer, \n",
    "    writer = writer, \n",
    "    epochs = EPOCHS,\n",
    "    device = device\n",
    ")"
   ]
  },
  {
   "cell_type": "code",
   "execution_count": null,
   "metadata": {},
   "outputs": [],
   "source": [
    "# Check out the model results\n",
    "print(train_results)"
   ]
  },
  {
   "cell_type": "code",
   "execution_count": null,
   "metadata": {},
   "outputs": [],
   "source": [
    "write_train_results(experiment_name=\"exp_2_data_256\", model_name=\"linear_entanglement_r3\", epochs=EPOCHS, results=train_results)"
   ]
  },
  {
   "cell_type": "code",
   "execution_count": null,
   "metadata": {},
   "outputs": [],
   "source": [
    "# %load_ext tensorboard\n",
    "# %tensorboard --logdir runs"
   ]
  },
  {
   "cell_type": "markdown",
   "metadata": {},
   "source": [
    "##### 02. Save the trained model"
   ]
  },
  {
   "cell_type": "code",
   "execution_count": null,
   "metadata": {},
   "outputs": [],
   "source": [
    "save_model(\n",
    "    model=qnn,\n",
    "    target_dir='outputs/saved_models',\n",
    "    model_name=f'exp_2_leqmr3_subset256_epoch{EPOCHS}.pt'\n",
    ")"
   ]
  },
  {
   "cell_type": "markdown",
   "metadata": {},
   "source": [
    "##### 03. Test"
   ]
  },
  {
   "cell_type": "code",
   "execution_count": null,
   "metadata": {},
   "outputs": [],
   "source": [
    "test_results = test(\n",
    "    model = qnn, \n",
    "    data_loader = test_dataloader,\n",
    "    device = device\n",
    ")"
   ]
  },
  {
   "cell_type": "code",
   "execution_count": null,
   "metadata": {},
   "outputs": [],
   "source": [
    "print(test_results)"
   ]
  },
  {
   "cell_type": "code",
   "execution_count": null,
   "metadata": {},
   "outputs": [],
   "source": []
  }
 ],
 "metadata": {
  "kernelspec": {
   "display_name": "Python 3 (ipykernel)",
   "language": "python",
   "name": "python3"
  },
  "language_info": {
   "codemirror_mode": {
    "name": "ipython",
    "version": 3
   },
   "file_extension": ".py",
   "mimetype": "text/x-python",
   "name": "python",
   "nbconvert_exporter": "python",
   "pygments_lexer": "ipython3",
   "version": "3.10.10"
  }
 },
 "nbformat": 4,
 "nbformat_minor": 4
}
